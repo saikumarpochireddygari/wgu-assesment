{
 "cells": [
  {
   "cell_type": "code",
   "execution_count": null,
   "metadata": {
    "vscode": {
     "languageId": "plaintext"
    }
   },
   "outputs": [],
   "source": [
    "# dev/inference.ipynb\n",
    "import mlflow\n",
    "import pandas as pd\n",
    "\n",
    "print(\"DEV INFERENCE NOTEBOOK\")\n",
    "\n",
    "model_name = \"my_classification_model_dev\"  # dev-specific model name\n",
    "model_uri = f\"models:/{model_name}/Staging\" # dev might store in 'Staging' or 'None'\n",
    "\n",
    "model = mlflow.pyfunc.load_model(model_uri)\n",
    "\n",
    "df = pd.DataFrame({\n",
    "    \"feature1\": [5.1, 4.9],\n",
    "    \"feature2\": [3.5, 3.0],\n",
    "    \"feature3\": [1.4, 1.4],\n",
    "    \"feature4\": [0.2, 0.2]\n",
    "})\n",
    "\n",
    "predictions = model.predict(df)\n",
    "print(\"Dev inference predictions:\", predictions)\n"
   ]
  }
 ],
 "metadata": {
  "language_info": {
   "name": "python"
  }
 },
 "nbformat": 4,
 "nbformat_minor": 2
}
