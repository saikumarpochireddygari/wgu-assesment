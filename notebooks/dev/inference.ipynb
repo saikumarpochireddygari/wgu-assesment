{
 "cells": [
  {
   "cell_type": "code",
   "execution_count": null,
   "metadata": {
    "vscode": {
     "languageId": "plaintext"
    }
   },
   "outputs": [],
   "source": [
    "# dev/inference.ipynb\n",
    "#import mlflow\n",
    "#import pandas as pd\n",
    "\n",
    "#print(\"DEV INFERENCE NOTEBOOK\")\n",
    "\n",
    "#model_name = \"my_classification_model_dev\"  # dev-specific model name\n",
    "#model_uri = f\"models:/{model_name}/Staging\" # dev might store in 'Staging' or 'None'\n",
    "\n",
    "#model = mlflow.pyfunc.load_model(model_uri)\n",
    "\n",
    "#df = pd.DataFrame({\n",
    "#    \"feature1\": [5.1, 4.9],\n",
    "#    \"feature2\": [3.5, 3.0],\n",
    "#    \"feature3\": [1.4, 1.4],\n",
    "#    \"feature4\": [0.2, 0.2]\n",
    "#})\n",
    "\n",
    "#predictions = model.predict(df)\n",
    "#print(\"Dev inference predictions:\", predictions)\n"
   ]
  },
  {
   "cell_type": "code",
   "execution_count": null,
   "metadata": {
    "vscode": {
     "languageId": "plaintext"
    }
   },
   "outputs": [],
   "source": [
    "%pip install mlflow>=2.0.0 scikit-learn>=1.0.0 pandas>=1.3.0"
   ]
  },
  {
   "cell_type": "code",
   "execution_count": null,
   "metadata": {
    "vscode": {
     "languageId": "plaintext"
    }
   },
   "outputs": [],
   "source": [
    "dbutils.library.restartPython()"
   ]
  },
  {
   "cell_type": "code",
   "execution_count": null,
   "metadata": {
    "vscode": {
     "languageId": "plaintext"
    }
   },
   "outputs": [],
   "source": [
    "import mlflow\n",
    "import pandas as pd\n",
    "import numpy as np\n",
    "from sklearn.datasets import load_iris\n",
    "from datetime import datetime\n",
    "import os"
   ]
  },
  {
   "cell_type": "code",
   "execution_count": null,
   "metadata": {
    "vscode": {
     "languageId": "plaintext"
    }
   },
   "outputs": [],
   "source": [
    "mlflow.set_registry_uri(\"databricks-uc\")"
   ]
  },
  {
   "cell_type": "code",
   "execution_count": null,
   "metadata": {
    "vscode": {
     "languageId": "plaintext"
    }
   },
   "outputs": [],
   "source": [
    "#loading of parameters\n",
    "catalog_name = dbutils.widgets.get(\"catalog_name\")\n",
    "schema_name = dbutils.widgets.get(\"schema_name\")\n",
    "model_name = dbutils.widgets.get(\"model_name\")\n",
    "version = dbutils.widgets.get(\"version\")"
   ]
  },
  {
   "cell_type": "code",
   "execution_count": null,
   "metadata": {
    "vscode": {
     "languageId": "plaintext"
    }
   },
   "outputs": [],
   "source": [
    "#\"models:/prod_catalog.ml_models.iris_model@production\"\n",
    "model_to_load = f\"models:/{catalog_name}.{schema_name}.{model_name}@{version}\""
   ]
  },
  {
   "cell_type": "code",
   "execution_count": null,
   "metadata": {
    "vscode": {
     "languageId": "plaintext"
    }
   },
   "outputs": [],
   "source": [
    "model = mlflow.pyfunc.load_model(model_to_load)"
   ]
  },
  {
   "cell_type": "code",
   "execution_count": null,
   "metadata": {
    "vscode": {
     "languageId": "plaintext"
    }
   },
   "outputs": [],
   "source": [
    "iris = load_iris()\n",
    "inference_data = pd.DataFrame(iris.data[:150], columns=iris.feature_names)\n"
   ]
  },
  {
   "cell_type": "code",
   "execution_count": null,
   "metadata": {
    "vscode": {
     "languageId": "plaintext"
    }
   },
   "outputs": [],
   "source": [
    "expected_schema = {\n",
    "    'sepal length (cm)': 'float64',\n",
    "    'sepal width (cm)': 'float64', \n",
    "    'petal length (cm)': 'float64',\n",
    "    'petal width (cm)': 'float64'\n",
    "}"
   ]
  },
  {
   "cell_type": "code",
   "execution_count": null,
   "metadata": {
    "vscode": {
     "languageId": "plaintext"
    }
   },
   "outputs": [],
   "source": [
    "if inference_data.dtypes.astype(str).to_dict() != expected_schema:\n",
    "    dbutils.notebook.exit(\"Schema validation failed\")"
   ]
  },
  {
   "cell_type": "code",
   "execution_count": null,
   "metadata": {
    "vscode": {
     "languageId": "plaintext"
    }
   },
   "outputs": [],
   "source": [
    "predictions = model.predict(inference_data)\n",
    "inference_data['prediction'] = predictions"
   ]
  },
  {
   "cell_type": "code",
   "execution_count": null,
   "metadata": {
    "vscode": {
     "languageId": "plaintext"
    }
   },
   "outputs": [],
   "source": [
    "date_str = datetime.today().strftime(\"%Y-%m-%d\")\n",
    "output_dir = f\"/Volumes/prod_catalog/ml_models/inference_results/{date_str}\"\n",
    "output_path = f\"{output_dir}/predictions.csv\"\n",
    "\n",
    "# Create the directory if it does not exist\n",
    "os.makedirs(output_dir, exist_ok=True)\n",
    "\n",
    "inference_data.to_csv(output_path, index=False)"
   ]
  }
 ],
 "metadata": {
  "language_info": {
   "name": "python"
  }
 },
 "nbformat": 4,
 "nbformat_minor": 2
}
