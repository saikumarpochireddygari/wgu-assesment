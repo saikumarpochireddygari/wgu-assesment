{
 "cells": [
  {
   "cell_type": "code",
   "execution_count": null,
   "metadata": {
    "vscode": {
     "languageId": "plaintext"
    }
   },
   "outputs": [],
   "source": [
    "# dev/training.ipynb\n",
    "# Minimal example:\n",
    "#  - Slightly different parameters for dev\n",
    "\n",
    "#import mlflow\n",
    "#import mlflow.sklearn\n",
    "#from sklearn.datasets import load_iris\n",
    "#from sklearn.model_selection import train_test_split\n",
    "#from sklearn.ensemble import RandomForestClassifier\n",
    "\n",
    "#print(\"DEV TRAINING NOTEBOOK\")\n",
    "\n",
    "# Ingest data\n",
    "#iris = load_iris()\n",
    "#X_train, X_test, y_train, y_test = train_test_split(\n",
    "#    iris.data, iris.target, test_size=0.2, random_state=42\n",
    "#)\n",
    "\n",
    "# Dev might use fewer trees, etc.\n",
    "#model = RandomForestClassifier(n_estimators=5, random_state=42)\n",
    "#model.fit(X_train, y_train)\n",
    "\n",
    "#mlflow.set_experiment(\"/Users/<YOUR_USER>/dev_experiment\")  # e.g. Dev-specific MLflow experiment path\n",
    "\n",
    "#with mlflow.start_run():\n",
    "#    mlflow.log_param(\"n_estimators\", 5)\n",
    "#    accuracy = model.score(X_test, y_test)\n",
    "#    mlflow.log_metric(\"accuracy\", accuracy)\n",
    "#    mlflow.sklearn.log_model(model, artifact_path=\"model\")\n",
    "#    print(f\"Dev training complete. Accuracy={accuracy}\")\n"
   ]
  },
  {
   "cell_type": "code",
   "execution_count": null,
   "metadata": {
    "vscode": {
     "languageId": "plaintext"
    }
   },
   "outputs": [],
   "source": [
    "%pip install mlflow>=2.0.0 scikit-learn>=1.0.0 pandas>=1.3.0\n"
   ]
  },
  {
   "cell_type": "code",
   "execution_count": null,
   "metadata": {
    "vscode": {
     "languageId": "plaintext"
    }
   },
   "outputs": [],
   "source": [
    "dbutils.library.restartPython()"
   ]
  },
  {
   "cell_type": "code",
   "execution_count": null,
   "metadata": {
    "vscode": {
     "languageId": "plaintext"
    }
   },
   "outputs": [],
   "source": [
    "import mlflow\n",
    "import pandas as pd\n",
    "import numpy as np\n",
    "from sklearn.datasets import load_iris\n",
    "from sklearn.ensemble import RandomForestClassifier\n",
    "from mlflow.models.signature import infer_signature"
   ]
  },
  {
   "cell_type": "code",
   "execution_count": null,
   "metadata": {
    "vscode": {
     "languageId": "plaintext"
    }
   },
   "outputs": [],
   "source": [
    "#loading of parameters\n",
    "catalog_name = dbutils.widgets.get(\"catalog_name\")\n",
    "schema_name = dbutils.widgets.get(\"schema_name\")\n",
    "model_name = dbutils.widgets.get(\"model_name\")\n",
    "exp_name = dbutils.widgets.get(\"exp_name\")\n",
    "model_description= dbutils.widgets.get(\"model_description\")\n",
    "model_category = dbutils.widgets.get(\"model_category\")\n",
    "owner = dbutils.widgets.get(\"owner\")\n",
    "project = dbutils.widgets.get(\"project\")\n",
    "team = dbutils.widgets.get(\"team\")"
   ]
  },
  {
   "cell_type": "code",
   "execution_count": null,
   "metadata": {
    "vscode": {
     "languageId": "plaintext"
    }
   },
   "outputs": [],
   "source": [
    "model_tags = {\n",
    "    \"Owner\": owner,\n",
    "    \"Project\": project,\n",
    "    \"Category\": model_category,\n",
    "    \"mlflow.note.content\": model_description\n",
    "}\n",
    "\n",
    "MODEL_TAGS = model_tags\n",
    "MODEL_DESCRIPTION = model_description\n",
    "MODEL_NAME = model_name\n"
   ]
  },
  {
   "cell_type": "code",
   "execution_count": null,
   "metadata": {
    "vscode": {
     "languageId": "plaintext"
    }
   },
   "outputs": [],
   "source": [
    "iris = load_iris()\n",
    "data = pd.DataFrame(np.c_[iris.data, iris.target], \n",
    "                   columns=iris.feature_names + ['target'])"
   ]
  },
  {
   "cell_type": "code",
   "execution_count": null,
   "metadata": {
    "vscode": {
     "languageId": "plaintext"
    }
   },
   "outputs": [],
   "source": [
    "train_data = data.sample(150, random_state=42)\n",
    "X_train = train_data[iris.feature_names]\n",
    "y_train = train_data['target']"
   ]
  },
  {
   "cell_type": "code",
   "execution_count": null,
   "metadata": {
    "vscode": {
     "languageId": "plaintext"
    }
   },
   "outputs": [],
   "source": [
    "experiment_name = exp_name"
   ]
  },
  {
   "cell_type": "code",
   "execution_count": null,
   "metadata": {
    "vscode": {
     "languageId": "plaintext"
    }
   },
   "outputs": [],
   "source": [
    "experiment = mlflow.get_experiment_by_name(experiment_name)\n",
    "\n",
    "if experiment is None:\n",
    "    experiment_id = mlflow.create_experiment(experiment_name)\n",
    "else:\n",
    "    experiment_id = experiment.experiment_id"
   ]
  },
  {
   "cell_type": "code",
   "execution_count": null,
   "metadata": {
    "vscode": {
     "languageId": "plaintext"
    }
   },
   "outputs": [],
   "source": [
    "mlflow.set_experiment(experiment_name)\n",
    "mlflow.set_registry_uri(\"databricks-uc\")\n"
   ]
  },
  {
   "cell_type": "code",
   "execution_count": null,
   "metadata": {
    "vscode": {
     "languageId": "plaintext"
    }
   },
   "outputs": [],
   "source": [
    "model = RandomForestClassifier(n_estimators=100, max_depth=5, random_state=42)\n",
    "model.fit(X_train, y_train)"
   ]
  },
  {
   "cell_type": "code",
   "execution_count": null,
   "metadata": {
    "vscode": {
     "languageId": "plaintext"
    }
   },
   "outputs": [],
   "source": [
    "registered_model_name = f\"{catalog_name}.{schema_name}.{model_name}\""
   ]
  },
  {
   "cell_type": "code",
   "execution_count": null,
   "metadata": {
    "vscode": {
     "languageId": "plaintext"
    }
   },
   "outputs": [],
   "source": [
    "with mlflow.start_run(experiment_id = experiment_id, tags = MODEL_TAGS):\n",
    "    \n",
    "    mlflow.log_params({\n",
    "        \"n_estimators\": 100,\n",
    "        \"max_depth\": 5,\n",
    "        \"random_state\": 42\n",
    "    })\n",
    "    \n",
    "    \n",
    "    mlflow.log_metric(\"training_accuracy\", model.score(X_train, y_train))\n",
    "    \n",
    "    signature = infer_signature(X_train, model.predict(X_train))\n",
    "    input_example = X_train.iloc[:5]\n",
    "    \n",
    "    mlflow.sklearn.log_model(\n",
    "        sk_model=model,\n",
    "        artifact_path=\"iris-model\",\n",
    "        signature=signature,\n",
    "        input_example=input_example,\n",
    "        registered_model_name=registered_model_name\n",
    "    )\n",
    "        \n",
    "    client = mlflow.MlflowClient()\n",
    "    latest_version = client.get_latest_versions(\n",
    "        registered_model_name, \n",
    "        stages=[]\n",
    "    )[0].version\n",
    "    client.set_registered_model_alias(\n",
    "        registered_model_name,\n",
    "        \"production\",\n",
    "        latest_version\n",
    "    )"
   ]
  }
 ],
 "metadata": {
  "language_info": {
   "name": "python"
  }
 },
 "nbformat": 4,
 "nbformat_minor": 2
}
