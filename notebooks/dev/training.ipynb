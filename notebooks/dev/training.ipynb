{
 "cells": [
  {
   "cell_type": "code",
   "execution_count": null,
   "metadata": {
    "vscode": {
     "languageId": "plaintext"
    }
   },
   "outputs": [],
   "source": [
    "# dev/training.ipynb\n",
    "# Minimal example:\n",
    "#  - Slightly different parameters for dev\n",
    "\n",
    "import mlflow\n",
    "import mlflow.sklearn\n",
    "from sklearn.datasets import load_iris\n",
    "from sklearn.model_selection import train_test_split\n",
    "from sklearn.ensemble import RandomForestClassifier\n",
    "\n",
    "print(\"DEV TRAINING NOTEBOOK\")\n",
    "\n",
    "# Ingest data\n",
    "iris = load_iris()\n",
    "X_train, X_test, y_train, y_test = train_test_split(\n",
    "    iris.data, iris.target, test_size=0.2, random_state=42\n",
    ")\n",
    "\n",
    "# Dev might use fewer trees, etc.\n",
    "model = RandomForestClassifier(n_estimators=5, random_state=42)\n",
    "model.fit(X_train, y_train)\n",
    "\n",
    "mlflow.set_experiment(\"/Users/<YOUR_USER>/dev_experiment\")  # e.g. Dev-specific MLflow experiment path\n",
    "\n",
    "with mlflow.start_run():\n",
    "    mlflow.log_param(\"n_estimators\", 5)\n",
    "    accuracy = model.score(X_test, y_test)\n",
    "    mlflow.log_metric(\"accuracy\", accuracy)\n",
    "    mlflow.sklearn.log_model(model, artifact_path=\"model\")\n",
    "    print(f\"Dev training complete. Accuracy={accuracy}\")\n"
   ]
  }
 ],
 "metadata": {
  "language_info": {
   "name": "python"
  }
 },
 "nbformat": 4,
 "nbformat_minor": 2
}
